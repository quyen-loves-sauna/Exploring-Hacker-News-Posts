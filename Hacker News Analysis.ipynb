{
 "cells": [
  {
   "cell_type": "markdown",
   "metadata": {
    "collapsed": true
   },
   "source": [
    "Title: Exploring Hacker News Posts"
   ]
  },
  {
   "cell_type": "code",
   "execution_count": 5,
   "metadata": {},
   "outputs": [],
   "source": [
    "file_opened = open('hacker_news.csv')\n",
    "from csv import reader\n",
    "read_file = reader(file_opened)\n",
    "hn = list(read_file)\n",
    "hn_header = hn [0]\n",
    "hn_data = hn [1:]\n"
   ]
  },
  {
   "cell_type": "code",
   "execution_count": 8,
   "metadata": {},
   "outputs": [
    {
     "name": "stdout",
     "output_type": "stream",
     "text": [
      "['id', 'title', 'url', 'num_points', 'num_comments', 'author', 'created_at']\n",
      "\n",
      "\n",
      "['12224879', 'Interactive Dynamic Video', 'http://www.interactivedynamicvideo.com/', '386', '52', 'ne0phyte', '8/4/2016 11:52']\n",
      "\n",
      "\n",
      "['10975351', 'How to Use Open Source and Shut the Fuck Up at the Same Time', 'http://hueniverse.com/2016/01/26/how-to-use-open-source-and-shut-the-fuck-up-at-the-same-time/', '39', '10', 'josep2', '1/26/2016 19:30']\n",
      "\n",
      "\n",
      "['11964716', \"Florida DJs May Face Felony for April Fools' Water Joke\", 'http://www.thewire.com/entertainment/2013/04/florida-djs-april-fools-water-joke/63798/', '2', '1', 'vezycash', '6/23/2016 22:20']\n",
      "\n",
      "\n",
      "['11919867', 'Technology ventures: From Idea to Enterprise', 'https://www.amazon.com/Technology-Ventures-Enterprise-Thomas-Byers/dp/0073523429', '3', '1', 'hswarna', '6/17/2016 0:01']\n",
      "\n",
      "\n",
      "['10301696', 'Note by Note: The Making of Steinway L1037 (2007)', 'http://www.nytimes.com/2007/11/07/movies/07stein.html?_r=0', '8', '2', 'walterbell', '9/30/2015 4:12']\n",
      "\n",
      "\n",
      "Number of rows: 20100\n",
      "Number of columns: 7\n"
     ]
    }
   ],
   "source": [
    "def explore_data(dataset, start, end, rows_and_columns=False):\n",
    "    dataset_slice = dataset[start:end]\n",
    "    for row in dataset_slice:\n",
    "        print (row)\n",
    "        print('\\n') \n",
    "    if rows_and_columns:\n",
    "        print ('Number of rows:', len(dataset))\n",
    "        print ('Number of columns:', len(dataset[0]))\n",
    "print(hn_header)\n",
    "print ('\\n')\n",
    "explore_data(hn_data, 0, 5, True)"
   ]
  },
  {
   "cell_type": "code",
   "execution_count": 12,
   "metadata": {},
   "outputs": [
    {
     "name": "stdout",
     "output_type": "stream",
     "text": [
      "1744\n",
      "1162\n",
      "17194\n"
     ]
    }
   ],
   "source": [
    "ask_posts = []\n",
    "show_posts = []\n",
    "other_posts = []\n",
    "for row in hn_data:\n",
    "    title = row[1]\n",
    "    if title.lower().startswith('ask hn'):\n",
    "        ask_posts.append(title)\n",
    "    elif title.lower().startswith('show hn'):\n",
    "        show_posts.append(title)\n",
    "    else:\n",
    "        other_posts.append(title)\n",
    "print (len(ask_posts))\n",
    "print (len (show_posts))\n",
    "print (len (other_posts))\n",
    "            \n",
    "        "
   ]
  },
  {
   "cell_type": "code",
   "execution_count": 115,
   "metadata": {},
   "outputs": [
    {
     "name": "stdout",
     "output_type": "stream",
     "text": [
      "[['12296411', 'Ask HN: How to improve my personal website?', '', '2', '6', 'ahmedbaracat', '8/16/2016 9:55'], ['10610020', 'Ask HN: Am I the only one outraged by Twitter shutting down share counts?', '', '28', '29', 'tkfx', '11/22/2015 13:43'], ['11610310', 'Ask HN: Aby recent changes to CSS that broke mobile?', '', '1', '1', 'polskibus', '5/2/2016 10:14'], ['12210105', 'Ask HN: Looking for Employee #3 How do I do it?', '', '1', '3', 'sph130', '8/2/2016 14:20'], ['10394168', 'Ask HN: Someone offered to buy my browser extension from me. What now?', '', '28', '17', 'roykolak', '10/15/2015 16:38']]\n"
     ]
    }
   ],
   "source": [
    "print (ask_posts [0:5])"
   ]
  },
  {
   "cell_type": "code",
   "execution_count": 127,
   "metadata": {},
   "outputs": [
    {
     "name": "stdout",
     "output_type": "stream",
     "text": [
      "[['10627194', 'Show HN: Wio Link  ESP8266 Based Web of Things Hardware Development Platform', 'https://iot.seeed.cc', '26', '22', 'kfihihc', '11/25/2015 14:03'], ['10646440', 'Show HN: Something pointless I made', 'http://dn.ht/picklecat/', '747', '102', 'dhotson', '11/29/2015 22:46'], ['11590768', 'Show HN: Shanhu.io, a programming playground powered by e8vm', 'https://shanhu.io', '1', '1', 'h8liu', '4/28/2016 18:05'], ['12178806', 'Show HN: Webscope  Easy way for web developers to communicate with Clients', 'http://webscopeapp.com', '3', '3', 'fastbrick', '7/28/2016 7:11'], ['10872799', 'Show HN: GeoScreenshot  Easily test Geo-IP based web pages', 'https://www.geoscreenshot.com/', '1', '9', 'kpsychwave', '1/9/2016 20:45']]\n"
     ]
    }
   ],
   "source": [
    "print (show_posts [0:5])"
   ]
  },
  {
   "cell_type": "code",
   "execution_count": 126,
   "metadata": {},
   "outputs": [
    {
     "name": "stdout",
     "output_type": "stream",
     "text": [
      "14.038417431192661\n"
     ]
    }
   ],
   "source": [
    "total_ask_comments = 0\n",
    "for element in ask_posts:\n",
    "    total_ask_comments += int (element [4])\n",
    "avg_ask_comments = total_ask_comments/len(ask_posts)\n",
    "print (avg_ask_comments)    "
   ]
  },
  {
   "cell_type": "code",
   "execution_count": 132,
   "metadata": {},
   "outputs": [
    {
     "name": "stdout",
     "output_type": "stream",
     "text": [
      "10.31669535283993\n"
     ]
    }
   ],
   "source": [
    "total_show_comments = 0\n",
    "\n",
    "for element in show_posts:\n",
    "    total_show_comments += int (element[4])\n",
    "    \n",
    "avg_show_comments = total_show_comments/len(show_posts)\n",
    "print(avg_show_comments)"
   ]
  },
  {
   "cell_type": "markdown",
   "metadata": {},
   "source": [
    "On average, ask posts in our sample receive approximately 14 comments, whereas show posts receive approximately 10. Since ask posts are more likely to receive comments, we'll focus our remaining analysis just on these posts."
   ]
  },
  {
   "cell_type": "code",
   "execution_count": 137,
   "metadata": {},
   "outputs": [
    {
     "name": "stdout",
     "output_type": "stream",
     "text": [
      "['8/16/2016 9:55', 6]\n",
      "<class 'list'>\n"
     ]
    }
   ],
   "source": [
    "import datetime as dt\n",
    "result_list = []\n",
    "for element in ask_posts:\n",
    "    create_at = element [6]\n",
    "    comment = int (element [4])\n",
    "    result_list.append([create_at, comment])\n",
    "print (result_list [0])\n",
    "print (type(result_list[1]))"
   ]
  },
  {
   "cell_type": "code",
   "execution_count": 168,
   "metadata": {},
   "outputs": [
    {
     "name": "stdout",
     "output_type": "stream",
     "text": [
      "{'05': 46, '03': 54, '14': 107, '09': 45, '22': 71, '11': 58, '18': 109, '02': 58, '08': 48, '01': 60, '00': 55, '15': 116, '13': 85, '10': 59, '23': 68, '04': 47, '07': 34, '12': 73, '17': 100, '20': 80, '06': 44, '16': 108, '19': 110, '21': 109}\n",
      "{'05': 464, '03': 421, '14': 1416, '09': 251, '22': 479, '11': 641, '18': 1439, '02': 1381, '08': 492, '01': 683, '00': 447, '15': 4477, '13': 1253, '10': 793, '23': 543, '04': 337, '07': 267, '12': 687, '17': 1146, '20': 1722, '06': 397, '16': 1814, '19': 1188, '21': 1745}\n"
     ]
    }
   ],
   "source": [
    "date_format = '%m/%d/%Y %H:%M'\n",
    "counts_by_hour = {} #contains the number of ask posts created during each hour of the day.\n",
    "comments_by_hour = {} #contains the corresponding number of comments ask posts created at each hour received.\n",
    "for element in result_list:\n",
    "    date_time = element [0]\n",
    "    time_ob = dt.datetime.strptime(date_time, date_format)\n",
    "    hour = time_ob.strftime(\"%H\") \n",
    "    comment_num = element[1]\n",
    "    if hour not in counts_by_hour:\n",
    "        counts_by_hour[hour] = 1\n",
    "        comments_by_hour[hour] = comment_num\n",
    "    else:\n",
    "        counts_by_hour[hour] += 1\n",
    "        comments_by_hour[hour] += comment_num\n",
    "print (counts_by_hour)\n",
    "print (comments_by_hour)"
   ]
  },
  {
   "cell_type": "code",
   "execution_count": 174,
   "metadata": {},
   "outputs": [
    {
     "name": "stdout",
     "output_type": "stream",
     "text": [
      "15 : 38.59\n",
      "02 : 23.81\n",
      "20 : 21.52\n",
      "16 : 16.8\n",
      "21 : 16.01\n",
      "13 : 14.74\n",
      "10 : 13.44\n",
      "14 : 13.23\n",
      "18 : 13.2\n",
      "17 : 11.46\n",
      "01 : 11.38\n",
      "11 : 11.05\n",
      "19 : 10.8\n",
      "08 : 10.25\n",
      "05 : 10.09\n",
      "12 : 9.41\n",
      "06 : 9.02\n",
      "00 : 8.13\n",
      "23 : 7.99\n",
      "07 : 7.85\n",
      "03 : 7.8\n",
      "04 : 7.17\n",
      "22 : 6.75\n",
      "09 : 5.58\n"
     ]
    }
   ],
   "source": [
    "avg_num_hour = []\n",
    "for hour, comments in comments_by_hour.items():\n",
    "    comment_total = comments\n",
    "    post_total = counts_by_hour[hour]\n",
    "    avg_cmt_per_post = round((comment_total/post_total),2)\n",
    "    avg_num_hour.append((avg_cmt_per_post, hour))\n",
    "avg_num_hour.sort(reverse=True)\n",
    "for each in avg_num_hour:\n",
    "    print(each[1], ':', each[0])"
   ]
  },
  {
   "cell_type": "code",
   "execution_count": 170,
   "metadata": {},
   "outputs": [
    {
     "name": "stdout",
     "output_type": "stream",
     "text": [
      "[['05', 10.08695652173913], ['03', 7.796296296296297], ['14', 13.233644859813085], ['09', 5.5777777777777775], ['22', 6.746478873239437], ['11', 11.051724137931034], ['18', 13.20183486238532], ['02', 23.810344827586206], ['08', 10.25], ['01', 11.383333333333333], ['00', 8.127272727272727], ['15', 38.5948275862069], ['13', 14.741176470588234], ['10', 13.440677966101696], ['23', 7.985294117647059], ['04', 7.170212765957447], ['07', 7.852941176470588], ['12', 9.41095890410959], ['17', 11.46], ['20', 21.525], ['06', 9.022727272727273], ['16', 16.796296296296298], ['19', 10.8], ['21', 16.009174311926607]]\n"
     ]
    }
   ],
   "source": [
    "avg_by_hour =[]\n",
    "\n",
    "for hour in comments_by_hour:\n",
    "    posts = counts_by_hour[hour]\n",
    "    comments = comments_by_hour[hour]\n",
    "    average = (comments/posts)\n",
    "    avg_by_hour.append([hour,average])\n",
    "    \n",
    "print(avg_by_hour)"
   ]
  },
  {
   "cell_type": "code",
   "execution_count": 173,
   "metadata": {},
   "outputs": [
    {
     "name": "stdout",
     "output_type": "stream",
     "text": [
      "[[10.08695652173913, '05'], [7.796296296296297, '03'], [13.233644859813085, '14'], [5.5777777777777775, '09'], [6.746478873239437, '22'], [11.051724137931034, '11'], [13.20183486238532, '18'], [23.810344827586206, '02'], [10.25, '08'], [11.383333333333333, '01'], [8.127272727272727, '00'], [38.5948275862069, '15'], [14.741176470588234, '13'], [13.440677966101696, '10'], [7.985294117647059, '23'], [7.170212765957447, '04'], [7.852941176470588, '07'], [9.41095890410959, '12'], [11.46, '17'], [21.525, '20'], [9.022727272727273, '06'], [16.796296296296298, '16'], [10.8, '19'], [16.009174311926607, '21']]\n"
     ]
    }
   ],
   "source": [
    "swap_avg_by_hour = []\n",
    "is_reversed = True\n",
    "for row in avg_by_hour:\n",
    "    swap_avg_by_hour.append([row[1], row[0]])\n",
    "print(swap_avg_by_hour)"
   ]
  },
  {
   "cell_type": "code",
   "execution_count": 178,
   "metadata": {},
   "outputs": [
    {
     "name": "stdout",
     "output_type": "stream",
     "text": [
      "[[38.5948275862069, '15'], [23.810344827586206, '02'], [21.525, '20'], [16.796296296296298, '16'], [16.009174311926607, '21'], [14.741176470588234, '13'], [13.440677966101696, '10'], [13.233644859813085, '14'], [13.20183486238532, '18'], [11.46, '17'], [11.383333333333333, '01'], [11.051724137931034, '11'], [10.8, '19'], [10.25, '08'], [10.08695652173913, '05'], [9.41095890410959, '12'], [9.022727272727273, '06'], [8.127272727272727, '00'], [7.985294117647059, '23'], [7.852941176470588, '07'], [7.796296296296297, '03'], [7.170212765957447, '04'], [6.746478873239437, '22'], [5.5777777777777775, '09']]\n"
     ]
    }
   ],
   "source": [
    "sorted_swap = sorted(swap_avg_by_hour, reverse=True)\n",
    "print (sorted_swap)"
   ]
  },
  {
   "cell_type": "code",
   "execution_count": 179,
   "metadata": {},
   "outputs": [
    {
     "name": "stdout",
     "output_type": "stream",
     "text": [
      " \"Top 5 Hours for Ask Posts Comments\n"
     ]
    }
   ],
   "source": [
    "print (' \"Top 5 Hours for Ask Posts Comments')"
   ]
  },
  {
   "cell_type": "code",
   "execution_count": 197,
   "metadata": {},
   "outputs": [
    {
     "name": "stdout",
     "output_type": "stream",
     "text": [
      "15:00: 38.59 average commnets per post\n",
      "02:00: 23.81 average commnets per post\n",
      "20:00: 21.52 average commnets per post\n",
      "16:00: 16.80 average commnets per post\n",
      "21:00: 16.01 average commnets per post\n"
     ]
    }
   ],
   "source": [
    "for item in sorted_swap[0:5]:\n",
    "    time_ob = dt.datetime.strptime(item[1], '%H')\n",
    "    time_format = time_ob.strftime('%H:%M')\n",
    "    print ('{hour}: {comments:.2f} average commnets per post'.format(hour=time_format, comments = item[0]))\n",
    "    "
   ]
  },
  {
   "cell_type": "markdown",
   "metadata": {},
   "source": [
    "In this project, we analyzed ask posts and show posts to determine which type of post and time receive the most comments on average. Based on our analysis, to maximize the amount of comments a post receives, we'd recommend the post be categorized as ask post and created between 15:00 and 16:00 (3:00 pm est - 4:00 pm est).\n",
    "\n",
    "However, it should be noted that the data set we analyzed excluded posts without any comments. Given that, it's more accurate to say that of the posts that received comments, ask posts received more comments on average and ask posts created between 15:00 and 16:00 (3:00 pm est - 4:00 pm est) received the most comments on average."
   ]
  }
 ],
 "metadata": {
  "kernelspec": {
   "display_name": "Python 3",
   "language": "python",
   "name": "python3"
  },
  "language_info": {
   "codemirror_mode": {
    "name": "ipython",
    "version": 3
   },
   "file_extension": ".py",
   "mimetype": "text/x-python",
   "name": "python",
   "nbconvert_exporter": "python",
   "pygments_lexer": "ipython3",
   "version": "3.8.2"
  }
 },
 "nbformat": 4,
 "nbformat_minor": 2
}
